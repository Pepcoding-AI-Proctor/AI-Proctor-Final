{
 "cells": [
  {
   "cell_type": "code",
   "execution_count": 1,
   "id": "5de46090",
   "metadata": {},
   "outputs": [
    {
     "name": "stderr",
     "output_type": "stream",
     "text": [
      "Using cache found in C:\\Users\\user/.cache\\torch\\hub\\ultralytics_yolov5_master\n",
      "YOLOv5  2021-11-18 torch 1.10.0+cpu CPU\n",
      "\n",
      "Fusing layers... \n",
      "Model Summary: 290 layers, 21172173 parameters, 0 gradients\n",
      "Adding AutoShape... \n"
     ]
    }
   ],
   "source": [
    "from video_analysis import face_verification,video_analysis"
   ]
  },
  {
   "cell_type": "code",
   "execution_count": 2,
   "id": "dea69c67",
   "metadata": {},
   "outputs": [
    {
     "name": "stderr",
     "output_type": "stream",
     "text": [
      "C:\\Users\\user\\AppData\\Roaming\\Python\\Python39\\site-packages\\pydub\\utils.py:170: RuntimeWarning: Couldn't find ffmpeg or avconv - defaulting to ffmpeg, but may not work\n",
      "  warn(\"Couldn't find ffmpeg or avconv - defaulting to ffmpeg, but may not work\", RuntimeWarning)\n"
     ]
    }
   ],
   "source": [
    "from video_to_text import video_to_text"
   ]
  },
  {
   "cell_type": "code",
   "execution_count": 3,
   "id": "4573f7dc",
   "metadata": {},
   "outputs": [],
   "source": [
    "import pandas as pd"
   ]
  },
  {
   "cell_type": "code",
   "execution_count": 4,
   "id": "ebeb233f",
   "metadata": {},
   "outputs": [],
   "source": [
    "import warnings\n",
    "warnings.filterwarnings('ignore')"
   ]
  },
  {
   "cell_type": "code",
   "execution_count": 5,
   "id": "7820b796",
   "metadata": {},
   "outputs": [],
   "source": [
    "import time"
   ]
  },
  {
   "cell_type": "code",
   "execution_count": 6,
   "id": "1e92ef66",
   "metadata": {},
   "outputs": [],
   "source": [
    "import shutil\n",
    "import os"
   ]
  },
  {
   "cell_type": "code",
   "execution_count": 7,
   "id": "8c5004c9",
   "metadata": {},
   "outputs": [],
   "source": [
    "import glob"
   ]
  },
  {
   "cell_type": "code",
   "execution_count": 8,
   "id": "7b03b706",
   "metadata": {},
   "outputs": [],
   "source": [
    "from location import get_location"
   ]
  },
  {
   "cell_type": "code",
   "execution_count": 9,
   "id": "83ed6e9a",
   "metadata": {},
   "outputs": [],
   "source": [
    "start = time.time()"
   ]
  },
  {
   "cell_type": "code",
   "execution_count": 10,
   "id": "2cf9f57e",
   "metadata": {},
   "outputs": [],
   "source": [
    "videopath = \"https://r4---sn-aigl6ner.googlevideo.com/videoplayback?expire=1637597114&ei=WmubYeyAIcGxgQeLkZbADg&ip=216.131.116.141&id=o-AMKaLoqNrK6xB2VMZWBM1nJmvJ8QZOA6OfYdme8Igxwk&itag=22&source=youtube&requiressl=yes&mh=DS&mm=31%2C29&mn=sn-aigl6ner%2Csn-aigzrn7e&ms=au%2Crdu&mv=m&mvi=4&pl=27&initcwndbps=693750&vprv=1&mime=video%2Fmp4&ns=Af-_VNlmtwHgE3npWswBgGsG&cnr=14&ratebypass=yes&dur=794.145&lmt=1636130429874155&mt=1637575269&fvip=4&fexp=24001373%2C24007246&c=WEB&txp=6311224&n=cRxR87Y2FG6d_Haa5e&sparams=expire%2Cei%2Cip%2Cid%2Citag%2Csource%2Crequiressl%2Cvprv%2Cmime%2Cns%2Ccnr%2Cratebypass%2Cdur%2Clmt&sig=AOq0QJ8wRgIhAIkZWOnwkAVz-1VdToOmRIFuGtIPYcoFvZnZskZhW-InAiEA_Xa8VohgHqPmqBPkJkT2_1ynBah6B8Mxr2o34xgRLBs%3D&lsparams=mh%2Cmm%2Cmn%2Cms%2Cmv%2Cmvi%2Cpl%2Cinitcwndbps&lsig=AG3C_xAwRgIhANUX6Bv2-6nlHY-lZEi2tPIPVhb_RbuitT1DMxRLRM9cAiEAoWJjjQYHlclcBvZvKgnGmud8qekP_WqXzJ-iKO-kFYo%3D&title=What%20Are%20the%20Big%20Ideas%20to%20Fight%20Climate%20Change%3F%20%7C%20Sustainable%20Development%20Summit%202021\""
   ]
  },
  {
   "cell_type": "code",
   "execution_count": 11,
   "id": "019a1506",
   "metadata": {},
   "outputs": [],
   "source": [
    "video_folder = \"UN Video Sample\""
   ]
  },
  {
   "cell_type": "code",
   "execution_count": 12,
   "id": "91263d40",
   "metadata": {},
   "outputs": [],
   "source": [
    "video_folder_path = os.path.join(os.getcwd(), video_folder)"
   ]
  },
  {
   "cell_type": "code",
   "execution_count": 13,
   "id": "54a6d071",
   "metadata": {},
   "outputs": [
    {
     "name": "stdout",
     "output_type": "stream",
     "text": [
      "Path already exists\n"
     ]
    }
   ],
   "source": [
    "try:\n",
    "    os.mkdir(video_folder_path)\n",
    "except:\n",
    "    print(\"Path already exists\")"
   ]
  },
  {
   "cell_type": "markdown",
   "id": "7cb0fc9e",
   "metadata": {},
   "source": [
    "## Location Access "
   ]
  },
  {
   "cell_type": "code",
   "execution_count": 14,
   "id": "71b0be85",
   "metadata": {},
   "outputs": [],
   "source": [
    "location = get_location()"
   ]
  },
  {
   "cell_type": "code",
   "execution_count": 15,
   "id": "f3d56a14",
   "metadata": {},
   "outputs": [
    {
     "name": "stdout",
     "output_type": "stream",
     "text": [
      "Gautam Buddha Nagar,Uttar Pradesh\n"
     ]
    }
   ],
   "source": [
    "print(location)"
   ]
  },
  {
   "cell_type": "code",
   "execution_count": 16,
   "id": "8d33ed62",
   "metadata": {},
   "outputs": [],
   "source": [
    "location_fn = \"Location.txt\"\n",
    "with open(os.path.join(video_folder_path,location_fn),'w') as f:\n",
    "    f.write(location)"
   ]
  },
  {
   "cell_type": "markdown",
   "id": "c58bd097",
   "metadata": {},
   "source": [
    "## Video to Text "
   ]
  },
  {
   "cell_type": "code",
   "execution_count": 17,
   "id": "eb3f13a8",
   "metadata": {},
   "outputs": [
    {
     "name": "stdout",
     "output_type": "stream",
     "text": [
      "C:\\Users\\user\\Documents\\AI Proctor Final\\UN Video Sample\n"
     ]
    }
   ],
   "source": [
    "print(video_folder_path)"
   ]
  },
  {
   "cell_type": "code",
   "execution_count": 18,
   "id": "e3ca0db3",
   "metadata": {},
   "outputs": [
    {
     "name": "stdout",
     "output_type": "stream",
     "text": [
      "MoviePy - Writing audio in C:\\Users\\user\\Documents\\AI Proctor Final\\UN Video Sample\\audio.wav\n"
     ]
    },
    {
     "name": "stderr",
     "output_type": "stream",
     "text": [
      "                                                                                                                       \r"
     ]
    },
    {
     "name": "stdout",
     "output_type": "stream",
     "text": [
      "MoviePy - Done.\n",
      "Converted the video successfully to audio\n",
      "exporting 0.wav\n",
      "exporting 1.wav\n",
      "exporting 2.wav\n",
      "exporting 3.wav\n",
      "exporting 4.wav\n",
      "exporting 5.wav\n",
      "exporting 6.wav\n",
      "exporting 7.wav\n",
      "exporting 8.wav\n",
      "exporting 9.wav\n",
      "exporting 10.wav\n",
      "exporting 11.wav\n",
      "exporting 12.wav\n",
      "exporting 13.wav\n",
      "exporting 14.wav\n",
      "exporting 15.wav\n",
      "exporting 16.wav\n",
      "exporting 17.wav\n",
      "exporting 18.wav\n",
      "exporting 19.wav\n",
      "exporting 20.wav\n",
      "exporting 21.wav\n",
      "exporting 22.wav\n",
      "exporting 23.wav\n",
      "exporting 24.wav\n",
      "exporting 25.wav\n",
      "exporting 26.wav\n",
      "Successfully Converted the audio to chunks\n",
      "Text file saved successfully\n"
     ]
    }
   ],
   "source": [
    "video_to_text(videopath,video_folder_path)"
   ]
  },
  {
   "cell_type": "markdown",
   "id": "d1734325",
   "metadata": {},
   "source": [
    "## Face Matching "
   ]
  },
  {
   "cell_type": "code",
   "execution_count": 19,
   "id": "8c9880d0",
   "metadata": {},
   "outputs": [],
   "source": [
    "face_img = './UN.JPG'\n",
    "check_rate = 10"
   ]
  },
  {
   "cell_type": "code",
   "execution_count": 20,
   "id": "ba29ff17",
   "metadata": {},
   "outputs": [
    {
     "ename": "OSError",
     "evalue": "Unable to open file (truncated file: eof = 524288, sblock->base_addr = 0, stored_eof = 94694792)",
     "output_type": "error",
     "traceback": [
      "\u001b[1;31m---------------------------------------------------------------------------\u001b[0m",
      "\u001b[1;31mOSError\u001b[0m                                   Traceback (most recent call last)",
      "\u001b[1;32m~\\AppData\\Local\\Temp/ipykernel_13248/424291862.py\u001b[0m in \u001b[0;36m<module>\u001b[1;34m\u001b[0m\n\u001b[1;32m----> 1\u001b[1;33m \u001b[0mface_verification\u001b[0m\u001b[1;33m(\u001b[0m\u001b[0mface_img\u001b[0m\u001b[1;33m,\u001b[0m\u001b[0mvideopath\u001b[0m\u001b[1;33m,\u001b[0m\u001b[0mvideo_folder_path\u001b[0m\u001b[1;33m,\u001b[0m\u001b[0mcheck_rate\u001b[0m\u001b[1;33m)\u001b[0m\u001b[1;33m\u001b[0m\u001b[1;33m\u001b[0m\u001b[0m\n\u001b[0m",
      "\u001b[1;32m~\\Documents\\AI Proctor Final\\video_analysis.py\u001b[0m in \u001b[0;36mface_verification\u001b[1;34m(imgpath, videopath, video_folder_path, check_rate)\u001b[0m\n\u001b[0;32m    281\u001b[0m \u001b[1;33m\u001b[0m\u001b[0m\n\u001b[0;32m    282\u001b[0m \u001b[1;33m\u001b[0m\u001b[0m\n\u001b[1;32m--> 283\u001b[1;33m             \u001b[0mmatch_faces\u001b[0m\u001b[1;33m(\u001b[0m\u001b[0mimgpath\u001b[0m\u001b[1;33m,\u001b[0m\u001b[0mframe\u001b[0m\u001b[1;33m,\u001b[0m\u001b[0mface_info\u001b[0m\u001b[1;33m)\u001b[0m\u001b[1;33m\u001b[0m\u001b[1;33m\u001b[0m\u001b[0m\n\u001b[0m\u001b[0;32m    284\u001b[0m \u001b[1;33m\u001b[0m\u001b[0m\n\u001b[0;32m    285\u001b[0m \u001b[1;33m\u001b[0m\u001b[0m\n",
      "\u001b[1;32m~\\Documents\\AI Proctor Final\\face_matching.py\u001b[0m in \u001b[0;36mmatch_faces\u001b[1;34m(profile_imgpath, current_frame, matching_list)\u001b[0m\n\u001b[0;32m     89\u001b[0m     \u001b[0mprofile_face\u001b[0m \u001b[1;33m=\u001b[0m \u001b[0mextract_face_from_path\u001b[0m\u001b[1;33m(\u001b[0m\u001b[0mprofile_imgpath\u001b[0m\u001b[1;33m)\u001b[0m\u001b[1;33m\u001b[0m\u001b[1;33m\u001b[0m\u001b[0m\n\u001b[0;32m     90\u001b[0m \u001b[1;33m\u001b[0m\u001b[0m\n\u001b[1;32m---> 91\u001b[1;33m     \u001b[0mstatus\u001b[0m\u001b[1;33m,\u001b[0m\u001b[0msimilarity\u001b[0m \u001b[1;33m=\u001b[0m \u001b[0mget_similarity\u001b[0m\u001b[1;33m(\u001b[0m\u001b[1;33m[\u001b[0m\u001b[0mprofile_face\u001b[0m\u001b[1;33m,\u001b[0m\u001b[0mcurrent_face\u001b[0m\u001b[1;33m]\u001b[0m\u001b[1;33m)\u001b[0m\u001b[1;33m\u001b[0m\u001b[1;33m\u001b[0m\u001b[0m\n\u001b[0m\u001b[0;32m     92\u001b[0m \u001b[1;33m\u001b[0m\u001b[0m\n\u001b[0;32m     93\u001b[0m \u001b[1;33m\u001b[0m\u001b[0m\n",
      "\u001b[1;32m~\\Documents\\AI Proctor Final\\face_matching.py\u001b[0m in \u001b[0;36mget_similarity\u001b[1;34m(faces)\u001b[0m\n\u001b[0;32m     71\u001b[0m \u001b[1;32mdef\u001b[0m \u001b[0mget_similarity\u001b[0m\u001b[1;33m(\u001b[0m\u001b[0mfaces\u001b[0m\u001b[1;33m)\u001b[0m\u001b[1;33m:\u001b[0m\u001b[1;33m\u001b[0m\u001b[1;33m\u001b[0m\u001b[0m\n\u001b[0;32m     72\u001b[0m \u001b[1;33m\u001b[0m\u001b[0m\n\u001b[1;32m---> 73\u001b[1;33m   \u001b[0membeddings\u001b[0m \u001b[1;33m=\u001b[0m \u001b[0mget_embeddings\u001b[0m\u001b[1;33m(\u001b[0m\u001b[0mfaces\u001b[0m\u001b[1;33m)\u001b[0m\u001b[1;33m\u001b[0m\u001b[1;33m\u001b[0m\u001b[0m\n\u001b[0m\u001b[0;32m     74\u001b[0m   \u001b[0mscore\u001b[0m \u001b[1;33m=\u001b[0m \u001b[0mcosine\u001b[0m\u001b[1;33m(\u001b[0m\u001b[0membeddings\u001b[0m\u001b[1;33m[\u001b[0m\u001b[1;36m0\u001b[0m\u001b[1;33m]\u001b[0m\u001b[1;33m,\u001b[0m \u001b[0membeddings\u001b[0m\u001b[1;33m[\u001b[0m\u001b[1;36m1\u001b[0m\u001b[1;33m]\u001b[0m\u001b[1;33m)\u001b[0m\u001b[1;33m\u001b[0m\u001b[1;33m\u001b[0m\u001b[0m\n\u001b[0;32m     75\u001b[0m \u001b[1;33m\u001b[0m\u001b[0m\n",
      "\u001b[1;32m~\\Documents\\AI Proctor Final\\face_matching.py\u001b[0m in \u001b[0;36mget_embeddings\u001b[1;34m(faces)\u001b[0m\n\u001b[0;32m     64\u001b[0m     \u001b[0mface\u001b[0m \u001b[1;33m=\u001b[0m \u001b[0mpreprocess_input\u001b[0m\u001b[1;33m(\u001b[0m\u001b[0mface\u001b[0m\u001b[1;33m,\u001b[0m\u001b[0mversion\u001b[0m \u001b[1;33m=\u001b[0m \u001b[1;36m2\u001b[0m\u001b[1;33m)\u001b[0m\u001b[1;33m\u001b[0m\u001b[1;33m\u001b[0m\u001b[0m\n\u001b[0;32m     65\u001b[0m \u001b[1;33m\u001b[0m\u001b[0m\n\u001b[1;32m---> 66\u001b[1;33m     \u001b[0mmodel\u001b[0m \u001b[1;33m=\u001b[0m \u001b[0mVGGFace\u001b[0m\u001b[1;33m(\u001b[0m\u001b[0mmodel\u001b[0m\u001b[1;33m=\u001b[0m\u001b[1;34m'resnet50'\u001b[0m\u001b[1;33m,\u001b[0m\u001b[0minclude_top\u001b[0m \u001b[1;33m=\u001b[0m \u001b[1;32mFalse\u001b[0m\u001b[1;33m,\u001b[0m\u001b[0minput_shape\u001b[0m\u001b[1;33m=\u001b[0m\u001b[1;33m(\u001b[0m\u001b[1;36m224\u001b[0m\u001b[1;33m,\u001b[0m\u001b[1;36m224\u001b[0m\u001b[1;33m,\u001b[0m\u001b[1;36m3\u001b[0m\u001b[1;33m)\u001b[0m\u001b[1;33m,\u001b[0m \u001b[0mpooling\u001b[0m\u001b[1;33m=\u001b[0m\u001b[1;34m'avg'\u001b[0m\u001b[1;33m)\u001b[0m\u001b[1;33m\u001b[0m\u001b[1;33m\u001b[0m\u001b[0m\n\u001b[0m\u001b[0;32m     67\u001b[0m \u001b[1;33m\u001b[0m\u001b[0m\n\u001b[0;32m     68\u001b[0m     \u001b[1;32mreturn\u001b[0m \u001b[0mmodel\u001b[0m\u001b[1;33m.\u001b[0m\u001b[0mpredict\u001b[0m\u001b[1;33m(\u001b[0m\u001b[0mface\u001b[0m\u001b[1;33m)\u001b[0m\u001b[1;33m\u001b[0m\u001b[1;33m\u001b[0m\u001b[0m\n",
      "\u001b[1;32mC:\\ProgramData\\Anaconda3\\lib\\site-packages\\keras_vggface\\vggface.py\u001b[0m in \u001b[0;36mVGGFace\u001b[1;34m(include_top, model, weights, input_tensor, input_shape, pooling, classes)\u001b[0m\n\u001b[0;32m     92\u001b[0m                 ' as true, `classes` should be 8631')\n\u001b[0;32m     93\u001b[0m \u001b[1;33m\u001b[0m\u001b[0m\n\u001b[1;32m---> 94\u001b[1;33m         return RESNET50(include_top=include_top, input_tensor=input_tensor,\n\u001b[0m\u001b[0;32m     95\u001b[0m                         \u001b[0minput_shape\u001b[0m\u001b[1;33m=\u001b[0m\u001b[0minput_shape\u001b[0m\u001b[1;33m,\u001b[0m \u001b[0mpooling\u001b[0m\u001b[1;33m=\u001b[0m\u001b[0mpooling\u001b[0m\u001b[1;33m,\u001b[0m\u001b[1;33m\u001b[0m\u001b[1;33m\u001b[0m\u001b[0m\n\u001b[0;32m     96\u001b[0m                         \u001b[0mweights\u001b[0m\u001b[1;33m=\u001b[0m\u001b[0mweights\u001b[0m\u001b[1;33m,\u001b[0m\u001b[1;33m\u001b[0m\u001b[1;33m\u001b[0m\u001b[0m\n",
      "\u001b[1;32mC:\\ProgramData\\Anaconda3\\lib\\site-packages\\keras_vggface\\models.py\u001b[0m in \u001b[0;36mRESNET50\u001b[1;34m(include_top, weights, input_tensor, input_shape, pooling, classes)\u001b[0m\n\u001b[0;32m    285\u001b[0m                                     \u001b[0mutils\u001b[0m\u001b[1;33m.\u001b[0m\u001b[0mRESNET50_WEIGHTS_PATH_NO_TOP\u001b[0m\u001b[1;33m,\u001b[0m\u001b[1;33m\u001b[0m\u001b[1;33m\u001b[0m\u001b[0m\n\u001b[0;32m    286\u001b[0m                                     cache_subdir=utils.VGGFACE_DIR)\n\u001b[1;32m--> 287\u001b[1;33m         \u001b[0mmodel\u001b[0m\u001b[1;33m.\u001b[0m\u001b[0mload_weights\u001b[0m\u001b[1;33m(\u001b[0m\u001b[0mweights_path\u001b[0m\u001b[1;33m)\u001b[0m\u001b[1;33m\u001b[0m\u001b[1;33m\u001b[0m\u001b[0m\n\u001b[0m\u001b[0;32m    288\u001b[0m         \u001b[1;32mif\u001b[0m \u001b[0mK\u001b[0m\u001b[1;33m.\u001b[0m\u001b[0mbackend\u001b[0m\u001b[1;33m(\u001b[0m\u001b[1;33m)\u001b[0m \u001b[1;33m==\u001b[0m \u001b[1;34m'theano'\u001b[0m\u001b[1;33m:\u001b[0m\u001b[1;33m\u001b[0m\u001b[1;33m\u001b[0m\u001b[0m\n\u001b[0;32m    289\u001b[0m             \u001b[0mlayer_utils\u001b[0m\u001b[1;33m.\u001b[0m\u001b[0mconvert_all_kernels_in_model\u001b[0m\u001b[1;33m(\u001b[0m\u001b[0mmodel\u001b[0m\u001b[1;33m)\u001b[0m\u001b[1;33m\u001b[0m\u001b[1;33m\u001b[0m\u001b[0m\n",
      "\u001b[1;32m~\\AppData\\Roaming\\Python\\Python39\\site-packages\\keras\\utils\\traceback_utils.py\u001b[0m in \u001b[0;36merror_handler\u001b[1;34m(*args, **kwargs)\u001b[0m\n\u001b[0;32m     65\u001b[0m     \u001b[1;32mexcept\u001b[0m \u001b[0mException\u001b[0m \u001b[1;32mas\u001b[0m \u001b[0me\u001b[0m\u001b[1;33m:\u001b[0m  \u001b[1;31m# pylint: disable=broad-except\u001b[0m\u001b[1;33m\u001b[0m\u001b[1;33m\u001b[0m\u001b[0m\n\u001b[0;32m     66\u001b[0m       \u001b[0mfiltered_tb\u001b[0m \u001b[1;33m=\u001b[0m \u001b[0m_process_traceback_frames\u001b[0m\u001b[1;33m(\u001b[0m\u001b[0me\u001b[0m\u001b[1;33m.\u001b[0m\u001b[0m__traceback__\u001b[0m\u001b[1;33m)\u001b[0m\u001b[1;33m\u001b[0m\u001b[1;33m\u001b[0m\u001b[0m\n\u001b[1;32m---> 67\u001b[1;33m       \u001b[1;32mraise\u001b[0m \u001b[0me\u001b[0m\u001b[1;33m.\u001b[0m\u001b[0mwith_traceback\u001b[0m\u001b[1;33m(\u001b[0m\u001b[0mfiltered_tb\u001b[0m\u001b[1;33m)\u001b[0m \u001b[1;32mfrom\u001b[0m \u001b[1;32mNone\u001b[0m\u001b[1;33m\u001b[0m\u001b[1;33m\u001b[0m\u001b[0m\n\u001b[0m\u001b[0;32m     68\u001b[0m     \u001b[1;32mfinally\u001b[0m\u001b[1;33m:\u001b[0m\u001b[1;33m\u001b[0m\u001b[1;33m\u001b[0m\u001b[0m\n\u001b[0;32m     69\u001b[0m       \u001b[1;32mdel\u001b[0m \u001b[0mfiltered_tb\u001b[0m\u001b[1;33m\u001b[0m\u001b[1;33m\u001b[0m\u001b[0m\n",
      "\u001b[1;32mC:\\ProgramData\\Anaconda3\\lib\\site-packages\\h5py\\_hl\\files.py\u001b[0m in \u001b[0;36m__init__\u001b[1;34m(self, name, mode, driver, libver, userblock_size, swmr, rdcc_nslots, rdcc_nbytes, rdcc_w0, track_order, fs_strategy, fs_persist, fs_threshold, **kwds)\u001b[0m\n\u001b[0;32m    440\u001b[0m             \u001b[1;32mwith\u001b[0m \u001b[0mphil\u001b[0m\u001b[1;33m:\u001b[0m\u001b[1;33m\u001b[0m\u001b[1;33m\u001b[0m\u001b[0m\n\u001b[0;32m    441\u001b[0m                 \u001b[0mfapl\u001b[0m \u001b[1;33m=\u001b[0m \u001b[0mmake_fapl\u001b[0m\u001b[1;33m(\u001b[0m\u001b[0mdriver\u001b[0m\u001b[1;33m,\u001b[0m \u001b[0mlibver\u001b[0m\u001b[1;33m,\u001b[0m \u001b[0mrdcc_nslots\u001b[0m\u001b[1;33m,\u001b[0m \u001b[0mrdcc_nbytes\u001b[0m\u001b[1;33m,\u001b[0m \u001b[0mrdcc_w0\u001b[0m\u001b[1;33m,\u001b[0m \u001b[1;33m**\u001b[0m\u001b[0mkwds\u001b[0m\u001b[1;33m)\u001b[0m\u001b[1;33m\u001b[0m\u001b[1;33m\u001b[0m\u001b[0m\n\u001b[1;32m--> 442\u001b[1;33m                 fid = make_fid(name, mode, userblock_size,\n\u001b[0m\u001b[0;32m    443\u001b[0m                                fapl, fcpl=make_fcpl(track_order=track_order, fs_strategy=fs_strategy,\n\u001b[0;32m    444\u001b[0m                                fs_persist=fs_persist, fs_threshold=fs_threshold),\n",
      "\u001b[1;32mC:\\ProgramData\\Anaconda3\\lib\\site-packages\\h5py\\_hl\\files.py\u001b[0m in \u001b[0;36mmake_fid\u001b[1;34m(name, mode, userblock_size, fapl, fcpl, swmr)\u001b[0m\n\u001b[0;32m    193\u001b[0m         \u001b[1;32mif\u001b[0m \u001b[0mswmr\u001b[0m \u001b[1;32mand\u001b[0m \u001b[0mswmr_support\u001b[0m\u001b[1;33m:\u001b[0m\u001b[1;33m\u001b[0m\u001b[1;33m\u001b[0m\u001b[0m\n\u001b[0;32m    194\u001b[0m             \u001b[0mflags\u001b[0m \u001b[1;33m|=\u001b[0m \u001b[0mh5f\u001b[0m\u001b[1;33m.\u001b[0m\u001b[0mACC_SWMR_READ\u001b[0m\u001b[1;33m\u001b[0m\u001b[1;33m\u001b[0m\u001b[0m\n\u001b[1;32m--> 195\u001b[1;33m         \u001b[0mfid\u001b[0m \u001b[1;33m=\u001b[0m \u001b[0mh5f\u001b[0m\u001b[1;33m.\u001b[0m\u001b[0mopen\u001b[0m\u001b[1;33m(\u001b[0m\u001b[0mname\u001b[0m\u001b[1;33m,\u001b[0m \u001b[0mflags\u001b[0m\u001b[1;33m,\u001b[0m \u001b[0mfapl\u001b[0m\u001b[1;33m=\u001b[0m\u001b[0mfapl\u001b[0m\u001b[1;33m)\u001b[0m\u001b[1;33m\u001b[0m\u001b[1;33m\u001b[0m\u001b[0m\n\u001b[0m\u001b[0;32m    196\u001b[0m     \u001b[1;32melif\u001b[0m \u001b[0mmode\u001b[0m \u001b[1;33m==\u001b[0m \u001b[1;34m'r+'\u001b[0m\u001b[1;33m:\u001b[0m\u001b[1;33m\u001b[0m\u001b[1;33m\u001b[0m\u001b[0m\n\u001b[0;32m    197\u001b[0m         \u001b[0mfid\u001b[0m \u001b[1;33m=\u001b[0m \u001b[0mh5f\u001b[0m\u001b[1;33m.\u001b[0m\u001b[0mopen\u001b[0m\u001b[1;33m(\u001b[0m\u001b[0mname\u001b[0m\u001b[1;33m,\u001b[0m \u001b[0mh5f\u001b[0m\u001b[1;33m.\u001b[0m\u001b[0mACC_RDWR\u001b[0m\u001b[1;33m,\u001b[0m \u001b[0mfapl\u001b[0m\u001b[1;33m=\u001b[0m\u001b[0mfapl\u001b[0m\u001b[1;33m)\u001b[0m\u001b[1;33m\u001b[0m\u001b[1;33m\u001b[0m\u001b[0m\n",
      "\u001b[1;32mh5py\\_objects.pyx\u001b[0m in \u001b[0;36mh5py._objects.with_phil.wrapper\u001b[1;34m()\u001b[0m\n",
      "\u001b[1;32mh5py\\_objects.pyx\u001b[0m in \u001b[0;36mh5py._objects.with_phil.wrapper\u001b[1;34m()\u001b[0m\n",
      "\u001b[1;32mh5py\\h5f.pyx\u001b[0m in \u001b[0;36mh5py.h5f.open\u001b[1;34m()\u001b[0m\n",
      "\u001b[1;31mOSError\u001b[0m: Unable to open file (truncated file: eof = 524288, sblock->base_addr = 0, stored_eof = 94694792)"
     ]
    }
   ],
   "source": [
    "face_verification(face_img,videopath,video_folder_path,check_rate)"
   ]
  },
  {
   "cell_type": "markdown",
   "id": "8b1d6aab",
   "metadata": {},
   "source": [
    "## Video Analysis "
   ]
  },
  {
   "cell_type": "code",
   "execution_count": null,
   "id": "23e328cf",
   "metadata": {},
   "outputs": [],
   "source": [
    "check_rate = 1"
   ]
  },
  {
   "cell_type": "code",
   "execution_count": null,
   "id": "20040a9d",
   "metadata": {},
   "outputs": [],
   "source": [
    "video_analysis(videopath,video_folder_path,check_rate)"
   ]
  },
  {
   "cell_type": "markdown",
   "id": "7cc8bc52",
   "metadata": {},
   "source": [
    "## Analysis "
   ]
  },
  {
   "cell_type": "markdown",
   "id": "a6536cb8",
   "metadata": {},
   "source": [
    "### Saving the Suspected text in a different file "
   ]
  },
  {
   "cell_type": "code",
   "execution_count": null,
   "id": "5dd6572c",
   "metadata": {},
   "outputs": [],
   "source": [
    "kw = ['hi', 'hello' ,'question','answer','konsa','batade','bol','kya keh raha hai','thik se bata','how','what','first','second','last','solution',\n",
    "    'please repeat','which question' , 'bata na' , 'bata','kya','jaldi','thik','ek','acha']"
   ]
  },
  {
   "cell_type": "code",
   "execution_count": null,
   "id": "a960ee17",
   "metadata": {},
   "outputs": [],
   "source": [
    "text_filepath = os.path.join(video_folder_path,\"audio_text.txt\")"
   ]
  },
  {
   "cell_type": "code",
   "execution_count": null,
   "id": "19586e41",
   "metadata": {},
   "outputs": [],
   "source": [
    "sentences = []\n",
    "\n",
    "with open(text_filepath,'r') as f:\n",
    "    sentences = f.readlines()"
   ]
  },
  {
   "cell_type": "code",
   "execution_count": null,
   "id": "7622515c",
   "metadata": {},
   "outputs": [],
   "source": [
    "suspected_text_filepath = os.path.join(video_folder_path,\"suspected.txt\")\n",
    "open(suspected_text_filepath, 'w').close() ##deleting the content of text file if it exists"
   ]
  },
  {
   "cell_type": "code",
   "execution_count": null,
   "id": "45ef704f",
   "metadata": {},
   "outputs": [],
   "source": [
    "for s in sentences:\n",
    "    for k in kw:\n",
    "        if k in s.lower().strip().split():\n",
    "            with open(suspected_text_filepath,'a') as f:\n",
    "                \n",
    "                f.write(s)\n",
    "                f.write(\"\\n\")\n",
    "            print(s)\n",
    "            print()\n",
    "            break"
   ]
  },
  {
   "cell_type": "code",
   "execution_count": null,
   "id": "10290558",
   "metadata": {},
   "outputs": [],
   "source": [
    "## function to copy a frame from one folder to another\n",
    "def copy_frame(old_folder,new_folder,frame):\n",
    "    frame_name = \"Frame_{} duration *.jpg\".format(frame)\n",
    "    \n",
    "    old_frame_path = glob.glob(os.path.join(old_folder,frame_name))[0]\n",
    "    \n",
    "    shutil.copy(old_frame_path,new_folder)\n",
    "    \n",
    "    new_frame_path = glob.glob(os.path.join(new_folder,frame_name))[0]\n",
    "    print(\"Frame Saved at {}\".format(new_frame_path))"
   ]
  },
  {
   "cell_type": "code",
   "execution_count": null,
   "id": "dcb7201b",
   "metadata": {},
   "outputs": [],
   "source": [
    "### function to save frames given in a dataframe to a new folder\n",
    "def filter_df_save_frames(filtered_df,video_folder_path,new_folder_path,new_folder_name):\n",
    "    \n",
    "    new_folder_path = os.path.join(new_folder_path,new_folder_name)    \n",
    "    try:\n",
    "        os.mkdir(new_folder_path)\n",
    "    except:\n",
    "        pass\n",
    "    \n",
    "    old_folder_path = os.path.join(video_folder_path,\"All Frames\")\n",
    "    \n",
    "    for frame in filtered_df['frame']:\n",
    "        \n",
    "        copy_frame(old_folder_path, new_folder_path, frame)"
   ]
  },
  {
   "cell_type": "code",
   "execution_count": null,
   "id": "dddaf2c2",
   "metadata": {},
   "outputs": [],
   "source": []
  },
  {
   "cell_type": "code",
   "execution_count": null,
   "id": "328f9f55",
   "metadata": {},
   "outputs": [],
   "source": [
    "vid_insights_filepath = os.path.join(video_folder_path,\"vid_insights.csv\")"
   ]
  },
  {
   "cell_type": "code",
   "execution_count": null,
   "id": "8dd54c8a",
   "metadata": {},
   "outputs": [],
   "source": [
    "df = pd.read_csv(vid_insights_filepath)"
   ]
  },
  {
   "cell_type": "code",
   "execution_count": null,
   "id": "f4c35072",
   "metadata": {},
   "outputs": [],
   "source": [
    "df.head()"
   ]
  },
  {
   "cell_type": "markdown",
   "id": "ad09991b",
   "metadata": {},
   "source": [
    "## Head Movement "
   ]
  },
  {
   "cell_type": "code",
   "execution_count": null,
   "id": "2cc3548a",
   "metadata": {},
   "outputs": [],
   "source": [
    "df['Head Position'].value_counts()"
   ]
  },
  {
   "cell_type": "code",
   "execution_count": null,
   "id": "348f0951",
   "metadata": {},
   "outputs": [],
   "source": [
    "## function to find the ratio of a particular value in a particular column"
   ]
  },
  {
   "cell_type": "code",
   "execution_count": null,
   "id": "e1fe7863",
   "metadata": {},
   "outputs": [],
   "source": [
    "def get_val_ratio(col,val):\n",
    "    c = 0\n",
    "    for row in col:\n",
    "        if val in row:\n",
    "            c += 1\n",
    "            \n",
    "    return round(c/len(col),2)"
   ]
  },
  {
   "cell_type": "code",
   "execution_count": null,
   "id": "e0ae3ea5",
   "metadata": {},
   "outputs": [],
   "source": [
    "get_val_ratio(df['Head Position'],'Right')"
   ]
  },
  {
   "cell_type": "code",
   "execution_count": null,
   "id": "29ec6a37",
   "metadata": {},
   "outputs": [],
   "source": [
    "all_scenarios = os.path.join(video_folder_path,\"All Scenarios\")\n",
    "try:\n",
    "    os.mkdir(all_scenarios)\n",
    "except:\n",
    "    pass"
   ]
  },
  {
   "cell_type": "code",
   "execution_count": null,
   "id": "1697b6d4",
   "metadata": {},
   "outputs": [],
   "source": [
    "right = df.loc[df['Head Position'].apply(lambda x: \"Right\" in x)]"
   ]
  },
  {
   "cell_type": "code",
   "execution_count": null,
   "id": "b21744d8",
   "metadata": {},
   "outputs": [],
   "source": [
    "right"
   ]
  },
  {
   "cell_type": "code",
   "execution_count": null,
   "id": "93cdf079",
   "metadata": {},
   "outputs": [],
   "source": [
    "filter_df_save_frames(right,video_folder_path,all_scenarios,\"Head Right\")"
   ]
  },
  {
   "cell_type": "code",
   "execution_count": null,
   "id": "f2935a5a",
   "metadata": {},
   "outputs": [],
   "source": []
  },
  {
   "cell_type": "code",
   "execution_count": null,
   "id": "a0d51622",
   "metadata": {},
   "outputs": [],
   "source": [
    "get_val_ratio(df['Head Position'],'Left')"
   ]
  },
  {
   "cell_type": "code",
   "execution_count": null,
   "id": "458ebf92",
   "metadata": {},
   "outputs": [],
   "source": [
    "left = df.loc[df['Head Position'].apply(lambda x: \"Left\" in x)]\n",
    "left"
   ]
  },
  {
   "cell_type": "code",
   "execution_count": null,
   "id": "93214461",
   "metadata": {},
   "outputs": [],
   "source": [
    "filter_df_save_frames(left,video_folder_path,all_scenarios,\"Head Left\")"
   ]
  },
  {
   "cell_type": "code",
   "execution_count": null,
   "id": "c2cec7be",
   "metadata": {},
   "outputs": [],
   "source": []
  },
  {
   "cell_type": "code",
   "execution_count": null,
   "id": "97d4c84b",
   "metadata": {},
   "outputs": [],
   "source": [
    "get_val_ratio(df['Head Position'],'Down')"
   ]
  },
  {
   "cell_type": "code",
   "execution_count": null,
   "id": "a5e35829",
   "metadata": {},
   "outputs": [],
   "source": [
    "down = df.loc[df['Head Position'].apply(lambda x : \"Down\" in x)]\n",
    "down"
   ]
  },
  {
   "cell_type": "code",
   "execution_count": null,
   "id": "86ed7053",
   "metadata": {},
   "outputs": [],
   "source": [
    "filter_df_save_frames(down,video_folder_path,all_scenarios,\"Head Down\")"
   ]
  },
  {
   "cell_type": "markdown",
   "id": "e992f542",
   "metadata": {},
   "source": [
    "### Head Up "
   ]
  },
  {
   "cell_type": "code",
   "execution_count": null,
   "id": "14efb510",
   "metadata": {},
   "outputs": [],
   "source": [
    "up = df.loc[df['Head Position'].apply(lambda x: \"Up\" in x)]\n",
    "up"
   ]
  },
  {
   "cell_type": "code",
   "execution_count": null,
   "id": "b6e8aabf",
   "metadata": {},
   "outputs": [],
   "source": [
    "filter_df_save_frames(up,video_folder_path,all_scenarios,\"Head Up\")"
   ]
  },
  {
   "cell_type": "code",
   "execution_count": null,
   "id": "0f236e86",
   "metadata": {},
   "outputs": [],
   "source": []
  },
  {
   "cell_type": "markdown",
   "id": "effe465f",
   "metadata": {},
   "source": [
    "## Eye Movement "
   ]
  },
  {
   "cell_type": "code",
   "execution_count": null,
   "id": "ed1a915c",
   "metadata": {},
   "outputs": [],
   "source": []
  },
  {
   "cell_type": "code",
   "execution_count": null,
   "id": "b32563eb",
   "metadata": {},
   "outputs": [],
   "source": [
    "df['Eye Movement'].value_counts()"
   ]
  },
  {
   "cell_type": "markdown",
   "id": "05c6cf34",
   "metadata": {},
   "source": [
    "### Eye Left "
   ]
  },
  {
   "cell_type": "code",
   "execution_count": null,
   "id": "476124ea",
   "metadata": {},
   "outputs": [],
   "source": [
    "eye_left = df.loc[df['Eye Movement'].apply(lambda x: \"left\" in x)]\n",
    "eye_left"
   ]
  },
  {
   "cell_type": "code",
   "execution_count": null,
   "id": "fc8fc001",
   "metadata": {},
   "outputs": [],
   "source": [
    "filter_df_save_frames(eye_left,video_folder_path,all_scenarios,\"Eye Left\")"
   ]
  },
  {
   "cell_type": "markdown",
   "id": "8dc98aef",
   "metadata": {},
   "source": [
    "### Eye Right "
   ]
  },
  {
   "cell_type": "code",
   "execution_count": null,
   "id": "1a270243",
   "metadata": {},
   "outputs": [],
   "source": [
    "eye_right = df.loc[df['Eye Movement'].apply(lambda x: \"right\" in x)]\n",
    "eye_right"
   ]
  },
  {
   "cell_type": "code",
   "execution_count": null,
   "id": "e73caf14",
   "metadata": {},
   "outputs": [],
   "source": [
    "filter_df_save_frames(eye_right,video_folder_path,all_scenarios,\"Eye Right\")"
   ]
  },
  {
   "cell_type": "markdown",
   "id": "5bb7c7da",
   "metadata": {},
   "source": [
    "### Eye Up "
   ]
  },
  {
   "cell_type": "code",
   "execution_count": null,
   "id": "2c5fcd41",
   "metadata": {},
   "outputs": [],
   "source": [
    "eye_up = df.loc[df['Eye Movement'].apply(lambda x: \"Upward\" in x)]\n",
    "eye_up"
   ]
  },
  {
   "cell_type": "code",
   "execution_count": null,
   "id": "553dad96",
   "metadata": {},
   "outputs": [],
   "source": [
    "filter_df_save_frames(eye_up,video_folder_path,all_scenarios,\"Eye Upward\")"
   ]
  },
  {
   "cell_type": "markdown",
   "id": "f01cf4de",
   "metadata": {},
   "source": [
    "### Eye Downward "
   ]
  },
  {
   "cell_type": "code",
   "execution_count": null,
   "id": "091927f9",
   "metadata": {},
   "outputs": [],
   "source": [
    "eye_downward = df.loc[df['Eye Movement'].apply(lambda x: \"Down\" in x)]\n",
    "eye_downward"
   ]
  },
  {
   "cell_type": "code",
   "execution_count": null,
   "id": "5ac6bda0",
   "metadata": {},
   "outputs": [],
   "source": [
    "filter_df_save_frames(eye_downward,video_folder_path,all_scenarios,\"Eye Downward\")"
   ]
  },
  {
   "cell_type": "code",
   "execution_count": null,
   "id": "76efe902",
   "metadata": {},
   "outputs": [],
   "source": [
    "get_val_ratio(df['Eye Movement'],'Eye Looking left')"
   ]
  },
  {
   "cell_type": "code",
   "execution_count": null,
   "id": "bce1f8ee",
   "metadata": {},
   "outputs": [],
   "source": [
    "get_val_ratio(df['Eye Movement'],'Eye Looking right')"
   ]
  },
  {
   "cell_type": "code",
   "execution_count": null,
   "id": "2c9f76d9",
   "metadata": {},
   "outputs": [],
   "source": [
    "get_val_ratio(df['Eye Movement'],'Eye Looking Downward')"
   ]
  },
  {
   "cell_type": "markdown",
   "id": "08985531",
   "metadata": {},
   "source": [
    "## Object Detection "
   ]
  },
  {
   "cell_type": "code",
   "execution_count": null,
   "id": "aa56641a",
   "metadata": {},
   "outputs": [],
   "source": [
    "df['Objects'].value_counts()"
   ]
  },
  {
   "cell_type": "code",
   "execution_count": null,
   "id": "99410665",
   "metadata": {},
   "outputs": [],
   "source": []
  },
  {
   "cell_type": "code",
   "execution_count": null,
   "id": "060e8470",
   "metadata": {},
   "outputs": [],
   "source": [
    "get_val_ratio(df['Objects'],'person')"
   ]
  },
  {
   "cell_type": "markdown",
   "id": "bb24f9a9",
   "metadata": {},
   "source": [
    "### To check for presence of cell phone in video "
   ]
  },
  {
   "cell_type": "code",
   "execution_count": null,
   "id": "38db4793",
   "metadata": {},
   "outputs": [],
   "source": [
    "get_val_ratio(df['Objects'],'cell phone')"
   ]
  },
  {
   "cell_type": "code",
   "execution_count": null,
   "id": "3e2e184c",
   "metadata": {},
   "outputs": [],
   "source": [
    "cell_phone = df.loc[df['Objects'].apply(lambda x:\"cell phone\" in x)]\n",
    "cell_phone"
   ]
  },
  {
   "cell_type": "code",
   "execution_count": null,
   "id": "c9cd9a48",
   "metadata": {},
   "outputs": [],
   "source": [
    "filter_df_save_frames(cell_phone,video_folder_path,all_scenarios,\"Cell Phone Present\")"
   ]
  },
  {
   "cell_type": "code",
   "execution_count": null,
   "id": "ade0d6f8",
   "metadata": {},
   "outputs": [],
   "source": []
  },
  {
   "cell_type": "markdown",
   "id": "44d80681",
   "metadata": {},
   "source": [
    "### No person "
   ]
  },
  {
   "cell_type": "code",
   "execution_count": null,
   "id": "2f240fa0",
   "metadata": {},
   "outputs": [],
   "source": [
    "np = df.loc[df['Objects'].apply(lambda x: x.count(\"person\") == 0)]\n",
    "np"
   ]
  },
  {
   "cell_type": "code",
   "execution_count": null,
   "id": "1c431e92",
   "metadata": {},
   "outputs": [],
   "source": [
    "filter_df_save_frames(np,video_folder_path,all_scenarios,\"No Person\")"
   ]
  },
  {
   "cell_type": "markdown",
   "id": "c396c81f",
   "metadata": {},
   "source": [
    "### More than One Person "
   ]
  },
  {
   "cell_type": "code",
   "execution_count": null,
   "id": "ee066e68",
   "metadata": {},
   "outputs": [],
   "source": [
    "mp = df.loc[df['Objects'].apply(lambda x: x.count('person')>1)]\n",
    "mp"
   ]
  },
  {
   "cell_type": "code",
   "execution_count": null,
   "id": "b49a0709",
   "metadata": {},
   "outputs": [],
   "source": [
    "filter_df_save_frames(mp,video_folder_path,all_scenarios,\"More than one Person\")"
   ]
  },
  {
   "cell_type": "markdown",
   "id": "142bf39a",
   "metadata": {},
   "source": [
    "### Spoof Images"
   ]
  },
  {
   "cell_type": "code",
   "execution_count": null,
   "id": "319b1a11",
   "metadata": {},
   "outputs": [],
   "source": [
    "df['Liveliness'].value_counts()"
   ]
  },
  {
   "cell_type": "code",
   "execution_count": null,
   "id": "8ad27ff4",
   "metadata": {},
   "outputs": [],
   "source": [
    "spoof = df.loc[df['Liveliness'].apply(lambda x: \"Spoof\" in x)]"
   ]
  },
  {
   "cell_type": "code",
   "execution_count": null,
   "id": "2e3250cc",
   "metadata": {},
   "outputs": [],
   "source": [
    "filter_df_save_frames(spoof,video_folder_path,all_scenarios,\"Spoof Images\")"
   ]
  },
  {
   "cell_type": "markdown",
   "id": "29b8c071",
   "metadata": {},
   "source": [
    "## Shoulder Stable but  Eye Down"
   ]
  },
  {
   "cell_type": "code",
   "execution_count": null,
   "id": "71be662b",
   "metadata": {},
   "outputs": [],
   "source": [
    "ss = df.loc[(df['Shoulder Movement'] == \"Stable\") & (df['Eye Movement'].apply(lambda x: \"Downward\" in x))]"
   ]
  },
  {
   "cell_type": "code",
   "execution_count": null,
   "id": "8574c545",
   "metadata": {},
   "outputs": [],
   "source": [
    "filter_df_save_frames(ss,video_folder_path,all_scenarios,\"Shoulder Stable Eye Down\")"
   ]
  },
  {
   "cell_type": "markdown",
   "id": "e518c58a",
   "metadata": {},
   "source": [
    "## Shoulder Stable Eye Left "
   ]
  },
  {
   "cell_type": "code",
   "execution_count": null,
   "id": "af75e820",
   "metadata": {},
   "outputs": [],
   "source": [
    "sl = df.loc[(df['Shoulder Movement'] == \"Stable\") & (df['Eye Movement'].apply(lambda x: \"left\" in x))]"
   ]
  },
  {
   "cell_type": "code",
   "execution_count": null,
   "id": "f5cc2cd9",
   "metadata": {},
   "outputs": [],
   "source": [
    "sl"
   ]
  },
  {
   "cell_type": "code",
   "execution_count": null,
   "id": "d7772056",
   "metadata": {},
   "outputs": [],
   "source": [
    "filter_df_save_frames(sl,video_folder_path,all_scenarios,\"Shoulder Stable Eye Left\")"
   ]
  },
  {
   "cell_type": "markdown",
   "id": "4227f3b6",
   "metadata": {},
   "source": [
    "### Shoulder Stable Eye Right"
   ]
  },
  {
   "cell_type": "code",
   "execution_count": null,
   "id": "ee16ec8c",
   "metadata": {},
   "outputs": [],
   "source": [
    "df['Eye Movement'].value_counts()"
   ]
  },
  {
   "cell_type": "code",
   "execution_count": null,
   "id": "6a078d7d",
   "metadata": {},
   "outputs": [],
   "source": [
    "sr = df.loc[(df['Shoulder Movement'] == \"Stable\") & (df['Eye Movement'].apply(lambda x: \"right\" in x))]\n",
    "filter_df_save_frames(sr,video_folder_path,all_scenarios,\"Shoulder Stable Eye Right\")"
   ]
  },
  {
   "cell_type": "markdown",
   "id": "27de334c",
   "metadata": {},
   "source": [
    "### Shoulder Stable Eye Up "
   ]
  },
  {
   "cell_type": "code",
   "execution_count": null,
   "id": "b95c74f5",
   "metadata": {},
   "outputs": [],
   "source": [
    "su = df.loc[(df['Shoulder Movement'] == \"Stable\") & (df['Eye Movement'].apply(lambda x: \"Upward\" in x))]\n",
    "filter_df_save_frames(sr,video_folder_path,all_scenarios,\"Shoulder Stable Eye Up\")"
   ]
  },
  {
   "cell_type": "markdown",
   "id": "846a16ac",
   "metadata": {},
   "source": [
    "### Shoulder Stable Head Down"
   ]
  },
  {
   "cell_type": "code",
   "execution_count": null,
   "id": "a56977bf",
   "metadata": {},
   "outputs": [],
   "source": [
    "sshd = df.loc[(df['Head Position'].apply(lambda x: \"Down\" in x)) & (df['Shoulder Movement'] == \"Stable\")]\n",
    "sshd"
   ]
  },
  {
   "cell_type": "code",
   "execution_count": null,
   "id": "70028afc",
   "metadata": {},
   "outputs": [],
   "source": [
    "filter_df_save_frames(sshd,video_folder_path,all_scenarios,\"Shoulder Stable Head Down\")"
   ]
  },
  {
   "cell_type": "markdown",
   "id": "c4330e01",
   "metadata": {},
   "source": [
    "### Shoulder Stable Head Left "
   ]
  },
  {
   "cell_type": "code",
   "execution_count": null,
   "id": "e1f744ad",
   "metadata": {},
   "outputs": [],
   "source": [
    "ssld = df.loc[(df['Head Position'].apply(lambda x: \"Left\" in x)) & (df['Shoulder Movement'] == \"Stable\")]\n",
    "ssld"
   ]
  },
  {
   "cell_type": "code",
   "execution_count": null,
   "id": "14772aa0",
   "metadata": {},
   "outputs": [],
   "source": [
    "filter_df_save_frames(ssld,video_folder_path,all_scenarios,\"Shoulder Stable Head Left\")"
   ]
  },
  {
   "cell_type": "markdown",
   "id": "94b186f5",
   "metadata": {},
   "source": [
    "### Shoulder Stable Head Right "
   ]
  },
  {
   "cell_type": "code",
   "execution_count": null,
   "id": "d2f854f8",
   "metadata": {},
   "outputs": [],
   "source": [
    "ssrd = df.loc[(df['Head Position'].apply(lambda x: \"Right\" in x)) & (df['Shoulder Movement'] == \"Stable\")]\n",
    "ssrd"
   ]
  },
  {
   "cell_type": "code",
   "execution_count": null,
   "id": "019cd52f",
   "metadata": {},
   "outputs": [],
   "source": [
    "filter_df_save_frames(ssrd,video_folder_path,all_scenarios,\"Shoulder Stable Head Right\")"
   ]
  },
  {
   "cell_type": "markdown",
   "id": "503b3fc9",
   "metadata": {},
   "source": [
    "### Shoulder Stable Head Up "
   ]
  },
  {
   "cell_type": "code",
   "execution_count": null,
   "id": "3f4151e4",
   "metadata": {},
   "outputs": [],
   "source": [
    "sshu = df.loc[(df['Head Position'].apply(lambda x: \"Up\" in x)) & (df['Shoulder Movement'] == \"Stable\")]\n",
    "sshu"
   ]
  },
  {
   "cell_type": "code",
   "execution_count": null,
   "id": "eed52867",
   "metadata": {},
   "outputs": [],
   "source": [
    "filter_df_save_frames(ssrd,video_folder_path,all_scenarios,\"Shoulder Stable Head Up\")"
   ]
  },
  {
   "cell_type": "markdown",
   "id": "2bcc14f8",
   "metadata": {},
   "source": [
    "## Face Not Matched "
   ]
  },
  {
   "cell_type": "code",
   "execution_count": null,
   "id": "4ddc8c88",
   "metadata": {},
   "outputs": [],
   "source": [
    "face = os.path.join(video_folder_path,\"face_match.csv\")"
   ]
  },
  {
   "cell_type": "code",
   "execution_count": null,
   "id": "81cb8b0a",
   "metadata": {},
   "outputs": [],
   "source": [
    "face_df = pd.read_csv(face)"
   ]
  },
  {
   "cell_type": "code",
   "execution_count": null,
   "id": "f79fdab4",
   "metadata": {},
   "outputs": [],
   "source": [
    "fn = face_df.loc[face_df['Face Verification'] == 'Face not Matched']\n",
    "fn"
   ]
  },
  {
   "cell_type": "code",
   "execution_count": null,
   "id": "e8fad597",
   "metadata": {},
   "outputs": [],
   "source": [
    "filter_df_save_frames(fn,video_folder_path,all_scenarios,\"Face Not Matched\")"
   ]
  },
  {
   "cell_type": "markdown",
   "id": "33931045",
   "metadata": {},
   "source": [
    "## Analysis for Interval "
   ]
  },
  {
   "cell_type": "code",
   "execution_count": null,
   "id": "b5b72fa7",
   "metadata": {},
   "outputs": [],
   "source": [
    "def get_val_ratio_for_interval(col,val,interval_start,num_rows):\n",
    "    col_subset = col.iloc[interval_start:interval_start+num_rows]\n",
    "    \n",
    "    return get_val_ratio(col_subset,val)"
   ]
  },
  {
   "cell_type": "markdown",
   "id": "06a6ae31",
   "metadata": {},
   "source": [
    "### Head Left "
   ]
  },
  {
   "cell_type": "code",
   "execution_count": null,
   "id": "7bcbbc13",
   "metadata": {},
   "outputs": [],
   "source": [
    "threshold = 0.3\n",
    "interval = 30\n",
    "idx_list = []\n",
    "for i in df.index[:-interval]:\n",
    "    ratio = get_val_ratio_for_interval(df['Head Position'],'Left',i,interval)\n",
    "    if ratio >= threshold:\n",
    "        idx_list.append(i)\n",
    "        print(i,ratio)"
   ]
  },
  {
   "cell_type": "code",
   "execution_count": null,
   "id": "0aec306d",
   "metadata": {},
   "outputs": [],
   "source": [
    "df.iloc[idx_list]"
   ]
  },
  {
   "cell_type": "markdown",
   "id": "062acff2",
   "metadata": {},
   "source": [
    "### Head Right "
   ]
  },
  {
   "cell_type": "code",
   "execution_count": null,
   "id": "1a7ca450",
   "metadata": {},
   "outputs": [],
   "source": [
    "threshold = 0.3\n",
    "interval = 30\n",
    "idx_list = []\n",
    "for i in df.index[:-interval]:\n",
    "    ratio = get_val_ratio_for_interval(df['Head Position'],'Right',i,interval)\n",
    "    if ratio >= threshold:\n",
    "        idx_list.append(i)\n",
    "        print(i,ratio)"
   ]
  },
  {
   "cell_type": "code",
   "execution_count": null,
   "id": "d2279eb2",
   "metadata": {},
   "outputs": [],
   "source": [
    "df['Head Position'].value_counts()"
   ]
  },
  {
   "cell_type": "markdown",
   "id": "19741b74",
   "metadata": {},
   "source": [
    "### Head Down"
   ]
  },
  {
   "cell_type": "code",
   "execution_count": null,
   "id": "552c79ca",
   "metadata": {},
   "outputs": [],
   "source": [
    "threshold = 0.3\n",
    "interval = 30\n",
    "idx_list = []\n",
    "for i in df.index[:-interval]:\n",
    "    ratio = get_val_ratio_for_interval(df['Head Position'],'Down',i,interval)\n",
    "    if ratio >= threshold:\n",
    "        idx_list.append(i)\n",
    "        print(i,ratio)"
   ]
  },
  {
   "cell_type": "markdown",
   "id": "6877ed5e",
   "metadata": {},
   "source": [
    "### Head Up "
   ]
  },
  {
   "cell_type": "code",
   "execution_count": null,
   "id": "0fad7f74",
   "metadata": {},
   "outputs": [],
   "source": [
    "threshold = 0.7\n",
    "interval = 30\n",
    "idx_list = []\n",
    "for i in df.index[:-interval]:\n",
    "    ratio = get_val_ratio_for_interval(df['Head Position'],'Up',i,interval)\n",
    "    if ratio >= threshold:\n",
    "        idx_list.append(i)\n",
    "        print(i,ratio)"
   ]
  },
  {
   "cell_type": "code",
   "execution_count": null,
   "id": "11f38aaf",
   "metadata": {},
   "outputs": [],
   "source": [
    "df.iloc[idx_list]"
   ]
  },
  {
   "cell_type": "markdown",
   "id": "e0ed1f4a",
   "metadata": {},
   "source": [
    "### Eye Down"
   ]
  },
  {
   "cell_type": "code",
   "execution_count": null,
   "id": "87e7a04b",
   "metadata": {},
   "outputs": [],
   "source": [
    "threshold = 0.3\n",
    "interval = 30\n",
    "idx_list = []\n",
    "for i in df.index[:-interval]:\n",
    "    ratio = get_val_ratio_for_interval(df['Eye Movement'],'Down',i,interval)\n",
    "    if ratio >= threshold:\n",
    "        idx_list.append(i)\n",
    "        print(i,ratio)"
   ]
  },
  {
   "cell_type": "code",
   "execution_count": null,
   "id": "29724829",
   "metadata": {},
   "outputs": [],
   "source": [
    "df.iloc[idx_list]"
   ]
  },
  {
   "cell_type": "markdown",
   "id": "8c98fdcf",
   "metadata": {},
   "source": [
    "### Eye Left "
   ]
  },
  {
   "cell_type": "code",
   "execution_count": null,
   "id": "090a592c",
   "metadata": {},
   "outputs": [],
   "source": [
    "threshold = 0.3\n",
    "interval = 30\n",
    "idx_list = []\n",
    "for i in df.index[:-interval]:\n",
    "    ratio = get_val_ratio_for_interval(df['Eye Movement'],'left',i,interval)\n",
    "    if ratio >= threshold:\n",
    "        idx_list.append(i)\n",
    "        print(i,ratio)"
   ]
  },
  {
   "cell_type": "code",
   "execution_count": null,
   "id": "55320ff7",
   "metadata": {},
   "outputs": [],
   "source": [
    "df.iloc[idx_list]"
   ]
  },
  {
   "cell_type": "markdown",
   "id": "4975a00b",
   "metadata": {},
   "source": [
    "### Eye right"
   ]
  },
  {
   "cell_type": "code",
   "execution_count": null,
   "id": "7495df7d",
   "metadata": {},
   "outputs": [],
   "source": [
    "df['Eye Movement'].value_counts()"
   ]
  },
  {
   "cell_type": "code",
   "execution_count": null,
   "id": "99e22655",
   "metadata": {},
   "outputs": [],
   "source": [
    "threshold = 0.3\n",
    "interval = 30\n",
    "idx_list = []\n",
    "for i in df.index[:-interval]:\n",
    "    ratio = get_val_ratio_for_interval(df['Eye Movement'],'right',i,interval)\n",
    "    if ratio >= threshold:\n",
    "        idx_list.append(i)\n",
    "        print(i,ratio)"
   ]
  },
  {
   "cell_type": "markdown",
   "id": "df6724f0",
   "metadata": {},
   "source": [
    "### Eye Up "
   ]
  },
  {
   "cell_type": "code",
   "execution_count": null,
   "id": "c19f1166",
   "metadata": {},
   "outputs": [],
   "source": [
    "threshold = 0.7\n",
    "interval = 30\n",
    "idx_list = []\n",
    "for i in df.index[:-interval]:\n",
    "    ratio = get_val_ratio_for_interval(df['Eye Movement'],'Up',i,interval)\n",
    "    if ratio >= threshold:\n",
    "        idx_list.append(i)\n",
    "        print(i,ratio)"
   ]
  },
  {
   "cell_type": "markdown",
   "id": "ea25677f",
   "metadata": {},
   "source": [
    "## Cheating Scenarios "
   ]
  },
  {
   "cell_type": "code",
   "execution_count": null,
   "id": "0e74584c",
   "metadata": {},
   "outputs": [],
   "source": [
    "df = pd.read_csv(os.path.join(video_folder_path,\"vid_insights.csv\"))"
   ]
  },
  {
   "cell_type": "code",
   "execution_count": null,
   "id": "54ea7a8f",
   "metadata": {},
   "outputs": [],
   "source": [
    "cheating_scenarios = os.path.join(video_folder_path,\"Cheating Scenarios\")\n",
    "try:\n",
    "    os.mkdir(cheating_scenarios)\n",
    "except:\n",
    "    pass"
   ]
  },
  {
   "cell_type": "markdown",
   "id": "e4f96322",
   "metadata": {},
   "source": [
    "### Head Left "
   ]
  },
  {
   "cell_type": "code",
   "execution_count": null,
   "id": "63f1a455",
   "metadata": {},
   "outputs": [],
   "source": [
    "interval = 30\n",
    "threshold = 0.3\n",
    "idx_list = []\n",
    "for i in df.index[:-interval]:\n",
    "    ratio = get_val_ratio_for_interval(df['Head Position'],'Left',i,interval)\n",
    "    if ratio >= threshold:\n",
    "        idx_list.append(i)\n",
    "hl = df.iloc[idx_list]\n",
    "hl"
   ]
  },
  {
   "cell_type": "code",
   "execution_count": null,
   "id": "07d18eea",
   "metadata": {},
   "outputs": [],
   "source": [
    "filter_df_save_frames(hl,video_folder_path,cheating_scenarios,\"Head Left\")"
   ]
  },
  {
   "cell_type": "markdown",
   "id": "fea0147e",
   "metadata": {},
   "source": [
    "### Head Right "
   ]
  },
  {
   "cell_type": "code",
   "execution_count": null,
   "id": "0006b419",
   "metadata": {},
   "outputs": [],
   "source": [
    "interval = 30\n",
    "threshold = 0.3\n",
    "idx_list = []\n",
    "for i in df.index[:-interval]:\n",
    "    ratio = get_val_ratio_for_interval(df['Head Position'],'Right',i,interval)\n",
    "    if ratio >= threshold:\n",
    "        idx_list.append(i)\n",
    "hr = df.iloc[idx_list]\n",
    "hr"
   ]
  },
  {
   "cell_type": "code",
   "execution_count": null,
   "id": "145e7639",
   "metadata": {},
   "outputs": [],
   "source": [
    "filter_df_save_frames(hr,video_folder_path,cheating_scenarios,\"Head Right\")"
   ]
  },
  {
   "cell_type": "markdown",
   "id": "f2c3895f",
   "metadata": {},
   "source": [
    "### Head Down "
   ]
  },
  {
   "cell_type": "code",
   "execution_count": null,
   "id": "01813002",
   "metadata": {},
   "outputs": [],
   "source": [
    "interval = 30\n",
    "threshold = 0.3\n",
    "idx_list = []\n",
    "for i in df.index[:-interval]:\n",
    "    ratio = get_val_ratio_for_interval(df['Head Position'],'Down',i,interval)\n",
    "    if ratio >= threshold:\n",
    "        idx_list.append(i)\n",
    "hd = df.iloc[idx_list]\n",
    "hd"
   ]
  },
  {
   "cell_type": "code",
   "execution_count": null,
   "id": "dced6ac3",
   "metadata": {},
   "outputs": [],
   "source": [
    "filter_df_save_frames(hd,video_folder_path,cheating_scenarios,\"Head Down\")"
   ]
  },
  {
   "cell_type": "markdown",
   "id": "c2dcb67f",
   "metadata": {},
   "source": [
    "### Head Up "
   ]
  },
  {
   "cell_type": "code",
   "execution_count": null,
   "id": "c270e8a4",
   "metadata": {},
   "outputs": [],
   "source": [
    "df['Head Position'].value_counts()"
   ]
  },
  {
   "cell_type": "code",
   "execution_count": null,
   "id": "95035cd8",
   "metadata": {},
   "outputs": [],
   "source": [
    "interval = 30\n",
    "threshold = 0.7\n",
    "idx_list = []\n",
    "for i in df.index[:-interval]:\n",
    "    ratio = get_val_ratio_for_interval(df['Head Position'],'Up',i,interval)\n",
    "    if ratio >= threshold:\n",
    "        idx_list.append(i)\n",
    "hu = df.iloc[idx_list]\n",
    "hu"
   ]
  },
  {
   "cell_type": "code",
   "execution_count": null,
   "id": "a3e5173c",
   "metadata": {},
   "outputs": [],
   "source": [
    "filter_df_save_frames(hu,video_folder_path,cheating_scenarios,\"Head Up\")"
   ]
  },
  {
   "cell_type": "code",
   "execution_count": null,
   "id": "dd29c760",
   "metadata": {},
   "outputs": [],
   "source": [
    "df['Eye Movement'].value_counts()"
   ]
  },
  {
   "cell_type": "code",
   "execution_count": null,
   "id": "1a1b91d5",
   "metadata": {},
   "outputs": [],
   "source": [
    "df.iloc[0:12]"
   ]
  },
  {
   "cell_type": "markdown",
   "id": "e45229cd",
   "metadata": {},
   "source": [
    "### Eye left "
   ]
  },
  {
   "cell_type": "code",
   "execution_count": null,
   "id": "9e35f022",
   "metadata": {},
   "outputs": [],
   "source": [
    "interval = 30\n",
    "threshold = 0.3\n",
    "idx_list = []\n",
    "for i in df.index[:-interval]:\n",
    "    ratio = get_val_ratio_for_interval(df['Eye Movement'],'left',i,interval)\n",
    "    if ratio >= threshold:\n",
    "        idx_list.append(i)\n",
    "el = df.iloc[idx_list]\n",
    "el"
   ]
  },
  {
   "cell_type": "code",
   "execution_count": null,
   "id": "99999832",
   "metadata": {},
   "outputs": [],
   "source": [
    "filter_df_save_frames(el,video_folder_path,cheating_scenarios,\"Eye Left\")"
   ]
  },
  {
   "cell_type": "markdown",
   "id": "1f41498f",
   "metadata": {},
   "source": [
    "### Eye Right "
   ]
  },
  {
   "cell_type": "code",
   "execution_count": null,
   "id": "575ae072",
   "metadata": {},
   "outputs": [],
   "source": [
    "interval = 30\n",
    "threshold = 0.3\n",
    "idx_list = []\n",
    "for i in df.index[:-interval]:\n",
    "    ratio = get_val_ratio_for_interval(df['Eye Movement'],'right',i,interval)\n",
    "    if ratio >= threshold:\n",
    "        idx_list.append(i)\n",
    "er = df.iloc[idx_list]\n",
    "er"
   ]
  },
  {
   "cell_type": "code",
   "execution_count": null,
   "id": "bc81923c",
   "metadata": {},
   "outputs": [],
   "source": [
    "filter_df_save_frames(er,video_folder_path,cheating_scenarios,\"Eye Right\")"
   ]
  },
  {
   "cell_type": "markdown",
   "id": "af758dfd",
   "metadata": {},
   "source": [
    "### Eye Up "
   ]
  },
  {
   "cell_type": "code",
   "execution_count": null,
   "id": "e0bf3131",
   "metadata": {},
   "outputs": [],
   "source": [
    "interval = 30\n",
    "threshold = 0.7\n",
    "idx_list = []\n",
    "for i in df.index[:-interval]:\n",
    "    ratio = get_val_ratio_for_interval(df['Eye Movement'],'Up',i,interval)\n",
    "    if ratio >= threshold:\n",
    "        idx_list.append(i)\n",
    "eu = df.iloc[idx_list]\n",
    "eu"
   ]
  },
  {
   "cell_type": "code",
   "execution_count": null,
   "id": "c4d47c10",
   "metadata": {},
   "outputs": [],
   "source": [
    "filter_df_save_frames(eu,video_folder_path,cheating_scenarios,\"Eye Up\")"
   ]
  },
  {
   "cell_type": "markdown",
   "id": "85de2d4c",
   "metadata": {},
   "source": [
    "### Eye Down "
   ]
  },
  {
   "cell_type": "code",
   "execution_count": null,
   "id": "ff0b001e",
   "metadata": {},
   "outputs": [],
   "source": [
    "interval = 30\n",
    "threshold = 0.3\n",
    "idx_list = []\n",
    "for i in df.index[:-interval]:\n",
    "    ratio = get_val_ratio_for_interval(df['Eye Movement'],'Down',i,interval)\n",
    "    if ratio >= threshold:\n",
    "        idx_list.append(i)\n",
    "ed = df.iloc[idx_list]\n",
    "ed"
   ]
  },
  {
   "cell_type": "code",
   "execution_count": null,
   "id": "d8c690e6",
   "metadata": {},
   "outputs": [],
   "source": [
    "filter_df_save_frames(ed,video_folder_path,cheating_scenarios,\"Eye Down\")"
   ]
  },
  {
   "cell_type": "code",
   "execution_count": null,
   "id": "3d14ddeb",
   "metadata": {},
   "outputs": [],
   "source": [
    "def get_val_ratio_2(df,cols,vals):\n",
    "    \n",
    "    count = 0\n",
    "    for i,row in df.iterrows():\n",
    "        status = 1\n",
    "        for j,c in enumerate(cols):\n",
    "            if vals[j] in row[cols[j]]:\n",
    "                status *= 1\n",
    "            else:\n",
    "                status *= 0\n",
    "                \n",
    "        if status == 1:\n",
    "            count += 1\n",
    "            \n",
    "    return round(count/len(df),2)"
   ]
  },
  {
   "cell_type": "code",
   "execution_count": null,
   "id": "b9774290",
   "metadata": {},
   "outputs": [],
   "source": [
    "df['Eye Movement']"
   ]
  },
  {
   "cell_type": "code",
   "execution_count": null,
   "id": "f04bbbc8",
   "metadata": {},
   "outputs": [],
   "source": [
    "get_val_ratio_2(df,[\"Eye Movement\",\"Shoulder Movement\"],[\"left\",\"Stable\"])"
   ]
  },
  {
   "cell_type": "code",
   "execution_count": null,
   "id": "5344bf9a",
   "metadata": {},
   "outputs": [],
   "source": [
    "def get_val_ratio_for_interval_2(df,cols,vals,interval_start,num_rows):\n",
    "    \n",
    "    df_subset = df.iloc[interval_start:interval_start+num_rows]\n",
    "    \n",
    "    return get_val_ratio_2(df_subset,cols,vals)"
   ]
  },
  {
   "cell_type": "code",
   "execution_count": null,
   "id": "19ef9cf3",
   "metadata": {},
   "outputs": [],
   "source": [
    "get_val_ratio_for_interval_2(df,[\"Eye Movement\",\"Shoulder Movement\"],[\"left\",\"Stable\"],5,10)"
   ]
  },
  {
   "cell_type": "markdown",
   "id": "66cd0d56",
   "metadata": {},
   "source": [
    "### Shoulder Stable Eye Left "
   ]
  },
  {
   "cell_type": "code",
   "execution_count": null,
   "id": "479081c0",
   "metadata": {},
   "outputs": [],
   "source": [
    "threshold = 0.3\n",
    "interval = 30\n",
    "idx_list = []\n",
    "for i in df.index[:-interval]:\n",
    "    ratio = get_val_ratio_for_interval_2(df,[\"Eye Movement\",\"Shoulder Movement\"],[\"left\",\"Stable\"],i,interval)\n",
    "    if ratio > threshold:\n",
    "        idx_list.append(i)\n",
    "ssel = df.iloc[idx_list]\n",
    "ssel\n"
   ]
  },
  {
   "cell_type": "code",
   "execution_count": null,
   "id": "bb627ce5",
   "metadata": {},
   "outputs": [],
   "source": [
    "filter_df_save_frames(ssel,video_folder_path,cheating_scenarios,\"Shoulders Stable Eye Left\")"
   ]
  },
  {
   "cell_type": "markdown",
   "id": "0623f938",
   "metadata": {},
   "source": [
    "### Shoulders Stable Eye Right "
   ]
  },
  {
   "cell_type": "code",
   "execution_count": null,
   "id": "14e75944",
   "metadata": {},
   "outputs": [],
   "source": [
    "threshold = 0.3\n",
    "interval = 30\n",
    "idx_list = []\n",
    "for i in df.index[:-interval]:\n",
    "    ratio = get_val_ratio_for_interval_2(df,[\"Eye Movement\",\"Shoulder Movement\"],[\"right\",\"Stable\"],i,interval)\n",
    "    #print(ratio)\n",
    "    if ratio > threshold:\n",
    "        \n",
    "        idx_list.append(i)\n",
    "sser = df.iloc[idx_list]\n",
    "sser\n",
    "\n"
   ]
  },
  {
   "cell_type": "code",
   "execution_count": null,
   "id": "01e63d8f",
   "metadata": {},
   "outputs": [],
   "source": [
    "filter_df_save_frames(sser,video_folder_path,cheating_scenarios,\"Shoulders Stable Eye Right\")"
   ]
  },
  {
   "cell_type": "markdown",
   "id": "0c5b495b",
   "metadata": {},
   "source": [
    "### Shoulder Stable Eye Down "
   ]
  },
  {
   "cell_type": "code",
   "execution_count": null,
   "id": "1e504b86",
   "metadata": {},
   "outputs": [],
   "source": [
    "threshold = 0.3\n",
    "interval = 30\n",
    "idx_list = []\n",
    "for i in df.index[:-interval]:\n",
    "    ratio = get_val_ratio_for_interval_2(df,[\"Eye Movement\",\"Shoulder Movement\"],[\"Down\",\"Stable\"],i,interval)\n",
    "    if ratio > threshold:\n",
    "        idx_list.append(i)\n",
    "ssed = df.iloc[idx_list]\n",
    "ssed\n",
    "\n"
   ]
  },
  {
   "cell_type": "code",
   "execution_count": null,
   "id": "1fa82ce6",
   "metadata": {},
   "outputs": [],
   "source": [
    "filter_df_save_frames(ssed,video_folder_path,cheating_scenarios,\"Shoulders Stable Eye Down\")"
   ]
  },
  {
   "cell_type": "markdown",
   "id": "fbc41dd1",
   "metadata": {},
   "source": [
    "### Shoulder Stable Eye Up "
   ]
  },
  {
   "cell_type": "code",
   "execution_count": null,
   "id": "986c8095",
   "metadata": {},
   "outputs": [],
   "source": [
    "threshold = 0.7\n",
    "interval = 30\n",
    "idx_list = []\n",
    "for i in df.index[:-interval]:\n",
    "    ratio = get_val_ratio_for_interval_2(df,[\"Eye Movement\",\"Shoulder Movement\"],[\"Up\",\"Stable\"],i,interval)\n",
    "    if ratio > threshold:\n",
    "        idx_list.append(i)\n",
    "sseu = df.iloc[idx_list]\n",
    "sseu\n",
    "\n"
   ]
  },
  {
   "cell_type": "code",
   "execution_count": null,
   "id": "b5f60df6",
   "metadata": {},
   "outputs": [],
   "source": [
    "filter_df_save_frames(sseu,video_folder_path,cheating_scenarios,\"Shoulders Stable Eye Up\")"
   ]
  },
  {
   "cell_type": "markdown",
   "id": "1dcf807e",
   "metadata": {},
   "source": [
    "### Shoulder Stable Head Left"
   ]
  },
  {
   "cell_type": "code",
   "execution_count": null,
   "id": "a8fc17e7",
   "metadata": {},
   "outputs": [],
   "source": [
    "threshold = 0.3\n",
    "interval = 30\n",
    "idx_list = []\n",
    "for i in df.index[:-interval]:\n",
    "    ratio = get_val_ratio_for_interval_2(df,[\"Head Position\",\"Shoulder Movement\"],[\"Left\",\"Stable\"],i,interval)\n",
    "    if ratio > threshold:\n",
    "        idx_list.append(i)\n",
    "sshl = df.iloc[idx_list]\n",
    "sshl\n"
   ]
  },
  {
   "cell_type": "code",
   "execution_count": null,
   "id": "08374906",
   "metadata": {},
   "outputs": [],
   "source": [
    "filter_df_save_frames(sshl,video_folder_path,cheating_scenarios,\"Shoulders Stable Head Left\")"
   ]
  },
  {
   "cell_type": "markdown",
   "id": "a99abe2b",
   "metadata": {},
   "source": [
    "### Shoulder Stable Head Right "
   ]
  },
  {
   "cell_type": "code",
   "execution_count": null,
   "id": "84b7a094",
   "metadata": {},
   "outputs": [],
   "source": [
    "threshold = 0.3\n",
    "interval = 30\n",
    "idx_list = []\n",
    "for i in df.index[:-interval]:\n",
    "    ratio = get_val_ratio_for_interval_2(df,[\"Head Position\",\"Shoulder Movement\"],[\"Right\",\"Stable\"],i,interval)\n",
    "    if ratio > threshold:\n",
    "        idx_list.append(i)\n",
    "sshr = df.iloc[idx_list]\n",
    "sshr\n"
   ]
  },
  {
   "cell_type": "code",
   "execution_count": null,
   "id": "72086769",
   "metadata": {},
   "outputs": [],
   "source": [
    "filter_df_save_frames(sshr,video_folder_path,cheating_scenarios,\"Shoulders Stable Head Right\")"
   ]
  },
  {
   "cell_type": "markdown",
   "id": "05be3d34",
   "metadata": {},
   "source": [
    "### Shoulder Stable Head Down "
   ]
  },
  {
   "cell_type": "code",
   "execution_count": null,
   "id": "7d01df94",
   "metadata": {},
   "outputs": [],
   "source": [
    "threshold = 0.3\n",
    "interval = 30\n",
    "idx_list = []\n",
    "for i in df.index[:-interval]:\n",
    "    ratio = get_val_ratio_for_interval_2(df,[\"Head Position\",\"Shoulder Movement\"],[\"Down\",\"Stable\"],i,interval)\n",
    "    if ratio > threshold:\n",
    "        idx_list.append(i)\n",
    "sshd = df.iloc[idx_list]\n",
    "sshd\n"
   ]
  },
  {
   "cell_type": "code",
   "execution_count": null,
   "id": "9ea8dd34",
   "metadata": {},
   "outputs": [],
   "source": [
    "filter_df_save_frames(sshd,video_folder_path,cheating_scenarios,\"Shoulders Stable Head Down\")"
   ]
  },
  {
   "cell_type": "markdown",
   "id": "b10a5da2",
   "metadata": {},
   "source": [
    "### Shoulder Stable Head Up "
   ]
  },
  {
   "cell_type": "code",
   "execution_count": null,
   "id": "4c682696",
   "metadata": {},
   "outputs": [],
   "source": [
    "threshold = 0.7\n",
    "interval = 30\n",
    "idx_list = []\n",
    "for i in df.index[:-interval]:\n",
    "    ratio = get_val_ratio_for_interval_2(df,[\"Head Position\",\"Shoulder Movement\"],[\"Up\",\"Stable\"],i,interval)\n",
    "    if ratio > threshold:\n",
    "        idx_list.append(i)\n",
    "sshu = df.iloc[idx_list]\n",
    "sshu\n"
   ]
  },
  {
   "cell_type": "code",
   "execution_count": null,
   "id": "9493e29b",
   "metadata": {},
   "outputs": [],
   "source": [
    "filter_df_save_frames(sshu,video_folder_path,cheating_scenarios,\"Shoulders Stable Head Up\")"
   ]
  },
  {
   "cell_type": "markdown",
   "id": "e3b08355",
   "metadata": {},
   "source": [
    "### More than One Person for more than 30s"
   ]
  },
  {
   "cell_type": "code",
   "execution_count": null,
   "id": "ebe13b17",
   "metadata": {},
   "outputs": [],
   "source": [
    "df['Objects'].apply(lambda x:x.count('person')>1).sum()"
   ]
  },
  {
   "cell_type": "code",
   "execution_count": null,
   "id": "1683fedb",
   "metadata": {},
   "outputs": [],
   "source": [
    "threshold = 0.8\n",
    "interval = 30\n",
    "idx_list = []\n",
    "mp = df['Objects'].apply(lambda x:x.count('person')> 1)"
   ]
  },
  {
   "cell_type": "code",
   "execution_count": null,
   "id": "4a2aa98d",
   "metadata": {},
   "outputs": [],
   "source": [
    "mp.sum()"
   ]
  },
  {
   "cell_type": "code",
   "execution_count": null,
   "id": "589d1fbb",
   "metadata": {},
   "outputs": [],
   "source": [
    "for idx in mp.index[:-interval]:\n",
    "    temp_list = mp.iloc[idx:idx+interval]\n",
    "    if temp_list.mean() >= threshold:\n",
    "        idx_list.append(idx)"
   ]
  },
  {
   "cell_type": "code",
   "execution_count": null,
   "id": "4eefae0b",
   "metadata": {},
   "outputs": [],
   "source": [
    "threshold"
   ]
  },
  {
   "cell_type": "code",
   "execution_count": null,
   "id": "67f45a3d",
   "metadata": {},
   "outputs": [],
   "source": [
    "mop = df.iloc[idx_list]\n",
    "mop"
   ]
  },
  {
   "cell_type": "code",
   "execution_count": null,
   "id": "8d29547c",
   "metadata": {},
   "outputs": [],
   "source": [
    "filter_df_save_frames(mop,video_folder_path,cheating_scenarios,\"More than One Person\")"
   ]
  },
  {
   "cell_type": "markdown",
   "id": "efa6c491",
   "metadata": {},
   "source": [
    "## No Person for more than 30s"
   ]
  },
  {
   "cell_type": "code",
   "execution_count": null,
   "id": "c81e0b7e",
   "metadata": {},
   "outputs": [],
   "source": [
    "threshold = 0.8\n",
    "interval = 30\n",
    "idx_list = []\n",
    "np = df['Objects'].apply(lambda x:x.count('person') == 0)\n",
    "\n",
    "\n",
    "for idx in np.index[:-interval]:\n",
    "    temp_list = np.iloc[idx:idx+interval]\n",
    "    if temp_list.mean() >= threshold:\n",
    "        idx_list.append(idx)"
   ]
  },
  {
   "cell_type": "code",
   "execution_count": null,
   "id": "5799c40a",
   "metadata": {},
   "outputs": [],
   "source": [
    "idx_list"
   ]
  },
  {
   "cell_type": "code",
   "execution_count": null,
   "id": "f25cc073",
   "metadata": {},
   "outputs": [],
   "source": [
    "nop = df.iloc[idx_list]\n",
    "nop"
   ]
  },
  {
   "cell_type": "code",
   "execution_count": null,
   "id": "ef3a1a89",
   "metadata": {},
   "outputs": [],
   "source": [
    "filter_df_save_frames(nop,video_folder_path,cheating_scenarios,\"No Person\")"
   ]
  },
  {
   "cell_type": "code",
   "execution_count": null,
   "id": "ebca0034",
   "metadata": {},
   "outputs": [],
   "source": [
    "df.loc[df['Shoulder Movement'].apply(lambda x: \"Stable\" in x)]['Head Position'].value_counts()"
   ]
  },
  {
   "cell_type": "code",
   "execution_count": null,
   "id": "a63dabe2",
   "metadata": {},
   "outputs": [],
   "source": []
  },
  {
   "cell_type": "code",
   "execution_count": null,
   "id": "056f9f7e",
   "metadata": {},
   "outputs": [],
   "source": []
  }
 ],
 "metadata": {
  "kernelspec": {
   "display_name": "Python 3 (ipykernel)",
   "language": "python",
   "name": "python3"
  },
  "language_info": {
   "codemirror_mode": {
    "name": "ipython",
    "version": 3
   },
   "file_extension": ".py",
   "mimetype": "text/x-python",
   "name": "python",
   "nbconvert_exporter": "python",
   "pygments_lexer": "ipython3",
   "version": "3.9.7"
  }
 },
 "nbformat": 4,
 "nbformat_minor": 5
}
